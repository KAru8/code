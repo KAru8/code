{
 "cells": [
  {
   "cell_type": "code",
   "execution_count": 1,
   "metadata": {},
   "outputs": [
    {
     "data": {
      "text/plain": [
       "Index(['№ п/п', 'Вид деятельности', 'Наименование продукции', 'Вид закупки',\n",
       "       'Номер лота', 'План внеплан', 'СЗ план', 'СЗ факт', 'ЕУ',\n",
       "       'Плановая цена без НДС', 'Плановая цена с НДС',\n",
       "       'Документ цену определил', 'Итоговая цена без НДС',\n",
       "       'Итоговая цена с НДС', 'Контрагент ', 'Цена договора без НДС',\n",
       "       'Цена договора с НДС'],\n",
       "      dtype='object')"
      ]
     },
     "metadata": {},
     "output_type": "display_data"
    }
   ],
   "source": [
    "import pandas as pd\n",
    "\n",
    "df = pd.read_excel('data_lot.xlsx')\n",
    "\n",
    "#df.info()\n",
    "\n",
    "#df.drop('Наименование Закачика продукции (юридическое лицо)', axis=1)\n",
    "display(df.columns)"
   ]
  },
  {
   "cell_type": "code",
   "execution_count": 47,
   "metadata": {},
   "outputs": [
    {
     "data": {
      "text/plain": [
       "Контрагент \n",
       " Отдел по г. Москве и Московской области ЦООТЭК (филиал) ФГУП \"Охрана\" Росгвардии    50869341.12\n",
       "Интеллектуальные Технологии ЗАО                                                      41050380.07\n",
       "ООО \"КОМПЛЕКТЭНЕРГО\"                                                                 25032000.00\n",
       "ООО \"ПИТЕРЭНЕРГОЗАПЧАСТЬ\"                                                            22554316.89\n",
       "АО \"УРАЛГИДРОСТАЛЬ\"                                                                  18667000.00\n",
       "Сател ООО                                                                            16131697.00\n",
       "РемСтройМонтаж ООО                                                                   12838987.27\n",
       "Самур ООО                                                                            11566968.11\n",
       "СпецЭнергоСтрой ООО                                                                  10858860.00\n",
       "ООО \"АМПЕР\"                                                                           9394167.00\n",
       "Name: Цена договора без НДС, dtype: float64"
      ]
     },
     "metadata": {},
     "output_type": "display_data"
    }
   ],
   "source": [
    "display(df[df['СЗ факт'] != 'Закупка у взаимозависимых лиц'].groupby(by='Контрагент ')['Цена договора без НДС'].sum().nlargest(10))"
   ]
  },
  {
   "cell_type": "code",
   "execution_count": 28,
   "metadata": {},
   "outputs": [],
   "source": [
    "df['Наименование победителя закупки'] = df['Наименование победителя закупки'].apply(lambda x:x.strip())"
   ]
  },
  {
   "cell_type": "code",
   "execution_count": null,
   "metadata": {},
   "outputs": [],
   "source": [
    "display(df['Контрагент '].unique())"
   ]
  },
  {
   "cell_type": "code",
   "execution_count": 3,
   "metadata": {},
   "outputs": [
    {
     "data": {
      "text/plain": [
       "Контрагент                       Контрагент                     \n",
       "Атис ООО                         Атис ООО                           9\n",
       "Орион-СМ ООО                     Орион-СМ ООО                       9\n",
       "Мерсин ООО                       Мерсин ООО                         7\n",
       "С-В ООО                          С-В ООО                            7\n",
       "ИП Филиппова С.В.                ИП Филиппова С.В.                  6\n",
       "РемСтройМонтаж ООО               РемСтройМонтаж ООО                 6\n",
       "СпецЭнергоСтрой ООО              СпецЭнергоСтрой ООО                6\n",
       "Водоканал МУП                    Водоканал МУП                      5\n",
       "ПрофСтандарт ООО                 ПрофСтандарт ООО                   5\n",
       "ФГАОУ ДПО АСМС                   ФГАОУ ДПО АСМС                     5\n",
       "Интеллектуальные Технологии ЗАО  Интеллектуальные Технологии ЗАО    4\n",
       "СНТА ДПО АНО                     СНТА ДПО АНО                       4\n",
       " Ростест-Москва ФБУ               Ростест-Москва ФБУ                3\n",
       "Диамех 2000 ООО                  Диамех 2000 ООО                    3\n",
       "ПКФ РУССИБМАШ ООО                ПКФ РУССИБМАШ ООО                  3\n",
       "Name: Контрагент , dtype: int64"
      ]
     },
     "metadata": {},
     "output_type": "display_data"
    }
   ],
   "source": [
    "display(df[df['СЗ факт'] != 'Закупка у взаимозависимых лиц'].groupby(by='Контрагент ')['Контрагент '].value_counts().nlargest(15))"
   ]
  },
  {
   "cell_type": "code",
   "execution_count": 1,
   "metadata": {},
   "outputs": [
    {
     "name": "stdout",
     "output_type": "stream",
     "text": [
      "True True True False\n"
     ]
    }
   ],
   "source": [
    "a = [1,2,3]\n",
    "b = a\n",
    "c = [1,2,3]\n",
    "print(a == b, a == c, a is b, a is c)"
   ]
  },
  {
   "cell_type": "code",
   "execution_count": 11,
   "metadata": {},
   "outputs": [],
   "source": [
    "config = {\n",
    "    \"server\": {\n",
    "        \"host\": \"127.0.0.1\",\n",
    "        \"port\": \"22\"\n",
    "    },\n",
    "    \"configuration\": {\n",
    "        \"ssh\": {\n",
    "            \"access\": True,\n",
    "            \"login\": \"some\",\n",
    "            \"password\": \"some\"\n",
    "        },\n",
    "        \"name\": \"2491Oaaf1414\"\n",
    "    }\n",
    "}"
   ]
  },
  {
   "cell_type": "code",
   "execution_count": 12,
   "metadata": {},
   "outputs": [
    {
     "data": {
      "text/plain": [
       "'some'"
      ]
     },
     "execution_count": 12,
     "metadata": {},
     "output_type": "execute_result"
    }
   ],
   "source": [
    "config['configuration']['ssh']['login']"
   ]
  },
  {
   "cell_type": "code",
   "execution_count": 14,
   "metadata": {},
   "outputs": [
    {
     "ename": "TypeError",
     "evalue": "Cannot interpret '10' as a data type",
     "output_type": "error",
     "traceback": [
      "\u001b[1;31m---------------------------------------------------------------------------\u001b[0m",
      "\u001b[1;31mTypeError\u001b[0m                                 Traceback (most recent call last)",
      "Cell \u001b[1;32mIn[14], line 3\u001b[0m\n\u001b[0;32m      1\u001b[0m \u001b[39mimport\u001b[39;00m \u001b[39mnumpy\u001b[39;00m\n\u001b[1;32m----> 3\u001b[0m numpy\u001b[39m.\u001b[39;49mzeros(\u001b[39m10\u001b[39;49m, \u001b[39m10\u001b[39;49m)\n",
      "\u001b[1;31mTypeError\u001b[0m: Cannot interpret '10' as a data type"
     ]
    }
   ],
   "source": [
    "import numpy\n",
    "\n",
    "numpy.zeros(10, 10)"
   ]
  },
  {
   "cell_type": "code",
   "execution_count": 60,
   "metadata": {},
   "outputs": [],
   "source": [
    "products = {'Oranges (packaged)': 114.99, 'Candy (Rotfront)': 280.0, 'Boiled sausage': 199.99, 'Juice J7 (orange)': 119.99, 'Trout (Seven Seas)': 399.99}\n",
    "stocks = {'Boiled sausage': '33%', 'Juice J7 (orange)': '12%', 'Trout (Seven Seas)': '18%'}\n",
    "\n",
    "#print(apply_discounts(products, stocks))\n",
    "\n",
    "## {'Oranges (packaged)': 114.99, 'Candy (Rotfront)': 280.0, 'Boiled sausage': 133.99, 'Juice J7 (orange)': 105.59, 'Trout (Seven Seas)': 327.99}"
   ]
  },
  {
   "cell_type": "code",
   "execution_count": 57,
   "metadata": {},
   "outputs": [
    {
     "data": {
      "text/plain": [
       "105.59"
      ]
     },
     "execution_count": 57,
     "metadata": {},
     "output_type": "execute_result"
    }
   ],
   "source": [
    "products['Juice J7 (orange)'] = round(float(products['Juice J7 (orange)']) * (1 - (float(stocks['Juice J7 (orange)'].strip('%')) /100)), 2)\n",
    "products['Juice J7 (orange)']"
   ]
  },
  {
   "cell_type": "code",
   "execution_count": 58,
   "metadata": {},
   "outputs": [],
   "source": [
    "def apply_discounts(products, stocks):\n",
    "    for key in stocks.keys():\n",
    "        if key in products.keys():\n",
    "            products[key] = round(float(products[key]) * (1 - (float(stocks[key].strip('%')) /100)), 2)\n",
    "    return products"
   ]
  },
  {
   "cell_type": "code",
   "execution_count": 61,
   "metadata": {},
   "outputs": [
    {
     "name": "stdout",
     "output_type": "stream",
     "text": [
      "{'Oranges (packaged)': 114.99, 'Candy (Rotfront)': 280.0, 'Boiled sausage': 133.99, 'Juice J7 (orange)': 105.59, 'Trout (Seven Seas)': 327.99}\n"
     ]
    }
   ],
   "source": [
    "print(apply_discounts(products, stocks))"
   ]
  },
  {
   "cell_type": "code",
   "execution_count": 83,
   "metadata": {},
   "outputs": [
    {
     "data": {
      "text/html": [
       "<div>\n",
       "<style scoped>\n",
       "    .dataframe tbody tr th:only-of-type {\n",
       "        vertical-align: middle;\n",
       "    }\n",
       "\n",
       "    .dataframe tbody tr th {\n",
       "        vertical-align: top;\n",
       "    }\n",
       "\n",
       "    .dataframe thead th {\n",
       "        text-align: right;\n",
       "    }\n",
       "</style>\n",
       "<table border=\"1\" class=\"dataframe\">\n",
       "  <thead>\n",
       "    <tr style=\"text-align: right;\">\n",
       "      <th></th>\n",
       "      <th>Country</th>\n",
       "      <th>Total_bronze</th>\n",
       "      <th>Total_silver</th>\n",
       "    </tr>\n",
       "  </thead>\n",
       "  <tbody>\n",
       "    <tr>\n",
       "      <th>0</th>\n",
       "      <td>Russia</td>\n",
       "      <td>25</td>\n",
       "      <td>20</td>\n",
       "    </tr>\n",
       "    <tr>\n",
       "      <th>1</th>\n",
       "      <td>USA</td>\n",
       "      <td>11</td>\n",
       "      <td>15</td>\n",
       "    </tr>\n",
       "  </tbody>\n",
       "</table>\n",
       "</div>"
      ],
      "text/plain": [
       "  Country  Total_bronze  Total_silver\n",
       "0  Russia            25            20\n",
       "1     USA            11            15"
      ]
     },
     "metadata": {},
     "output_type": "display_data"
    }
   ],
   "source": [
    "import pandas as pd\n",
    "\n",
    "df_bronze = pd.read_csv('bronze.csv', delimiter=';')\n",
    "df_silver = pd.read_csv('silver.csv', delimiter=';')\n",
    "\n",
    "merged = df_bronze.merge(df_silver, on='Country', suffixes=['_bronze','_silver'], how='inner')\n",
    "\n",
    "display(merged.head(5))"
   ]
  }
 ],
 "metadata": {
  "kernelspec": {
   "display_name": "Python 3",
   "language": "python",
   "name": "python3"
  },
  "language_info": {
   "codemirror_mode": {
    "name": "ipython",
    "version": 3
   },
   "file_extension": ".py",
   "mimetype": "text/x-python",
   "name": "python",
   "nbconvert_exporter": "python",
   "pygments_lexer": "ipython3",
   "version": "3.11.1"
  },
  "orig_nbformat": 4
 },
 "nbformat": 4,
 "nbformat_minor": 2
}
