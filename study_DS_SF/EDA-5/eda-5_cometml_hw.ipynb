{
  "cells": [
    {
      "attachments": {},
      "cell_type": "markdown",
      "metadata": {
        "id": "aUAqi67vLzhL"
      },
      "source": [
        "# Импорт библиотек"
      ]
    },
    {
      "cell_type": "code",
      "execution_count": 1,
      "metadata": {
        "id": "lXinfUuSL6Og"
      },
      "outputs": [],
      "source": [
        "import pandas as pd \n",
        "import seaborn as sns\n",
        "from matplotlib import pyplot as plt"
      ]
    },
    {
      "attachments": {},
      "cell_type": "markdown",
      "metadata": {
        "id": "hIlLTfPPz3VG"
      },
      "source": [
        "# Настройка CometML\n",
        "<img src='https://camo.githubusercontent.com/b35adf34bc440ea2ac19bb0d3432f48e26d71ab8e4c256e936b709eec44f5b19/68747470733a2f2f7777772e636f6d65742e6d6c2f696d616765732f6c6f676f5f636f6d65745f6c696768742e706e67' width=500px>"
      ]
    },
    {
      "cell_type": "code",
      "execution_count": null,
      "metadata": {
        "id": "4JiQtNAVQIu-"
      },
      "outputs": [],
      "source": [
        "#!pip install comet_ml"
      ]
    },
    {
      "cell_type": "code",
      "execution_count": 2,
      "metadata": {
        "id": "MGyR32T9qGD9"
      },
      "outputs": [],
      "source": [
        "from comet_ml import Experiment"
      ]
    },
    {
      "cell_type": "code",
      "execution_count": 4,
      "metadata": {
        "colab": {
          "base_uri": "https://localhost:8080/"
        },
        "id": "LPU_kAoC9IYG",
        "outputId": "d2e6e899-e80a-455b-c18b-532ceee68a3d"
      },
      "outputs": [
        {
          "name": "stderr",
          "output_type": "stream",
          "text": [
            "\u001b[1;38;5;214mCOMET WARNING:\u001b[0m As you are running in a Jupyter environment, you will need to call `experiment.end()` when finished to ensure all metrics and code are logged before exiting.\n",
            "\u001b[1;38;5;39mCOMET INFO:\u001b[0m Experiment is live on comet.com https://www.comet.com/karu8/study-ds-sf/9300a6c4a2bc4f0380a8544e5d4e0e3d\n",
            "\n"
          ]
        }
      ],
      "source": [
        "# Создайте эксперимент с помощью вашего API ключа\n",
        "experiment = Experiment(\n",
        "    api_key=\"_\",\n",
        "    project_name=\"_\",\n",
        "    workspace=\"_\",\n",
        ")"
      ]
    },
    {
      "attachments": {},
      "cell_type": "markdown",
      "metadata": {
        "id": "y3290WaEMCCM"
      },
      "source": [
        "# Загрузка данных"
      ]
    },
    {
      "cell_type": "code",
      "execution_count": 6,
      "metadata": {
        "id": "VbAf186tLgqb"
      },
      "outputs": [],
      "source": [
        "df = pd.read_csv('data/KaggleV2-May-2016.csv')"
      ]
    },
    {
      "cell_type": "code",
      "execution_count": 7,
      "metadata": {
        "colab": {
          "base_uri": "https://localhost:8080/",
          "height": 206
        },
        "id": "Yrs_ikOi7e92",
        "outputId": "7adfe956-3f2b-48eb-d83f-b6bfc2a9a07a"
      },
      "outputs": [
        {
          "data": {
            "text/html": [
              "<div>\n",
              "<style scoped>\n",
              "    .dataframe tbody tr th:only-of-type {\n",
              "        vertical-align: middle;\n",
              "    }\n",
              "\n",
              "    .dataframe tbody tr th {\n",
              "        vertical-align: top;\n",
              "    }\n",
              "\n",
              "    .dataframe thead th {\n",
              "        text-align: right;\n",
              "    }\n",
              "</style>\n",
              "<table border=\"1\" class=\"dataframe\">\n",
              "  <thead>\n",
              "    <tr style=\"text-align: right;\">\n",
              "      <th></th>\n",
              "      <th>PatientId</th>\n",
              "      <th>AppointmentID</th>\n",
              "      <th>Gender</th>\n",
              "      <th>ScheduledDay</th>\n",
              "      <th>AppointmentDay</th>\n",
              "      <th>Age</th>\n",
              "      <th>Neighbourhood</th>\n",
              "      <th>Scholarship</th>\n",
              "      <th>Hipertension</th>\n",
              "      <th>Diabetes</th>\n",
              "      <th>Alcoholism</th>\n",
              "      <th>Handcap</th>\n",
              "      <th>SMS_received</th>\n",
              "      <th>No-show</th>\n",
              "    </tr>\n",
              "  </thead>\n",
              "  <tbody>\n",
              "    <tr>\n",
              "      <th>0</th>\n",
              "      <td>2.987250e+13</td>\n",
              "      <td>5642903</td>\n",
              "      <td>F</td>\n",
              "      <td>2016-04-29T18:38:08Z</td>\n",
              "      <td>2016-04-29T00:00:00Z</td>\n",
              "      <td>62</td>\n",
              "      <td>JARDIM DA PENHA</td>\n",
              "      <td>0</td>\n",
              "      <td>1</td>\n",
              "      <td>0</td>\n",
              "      <td>0</td>\n",
              "      <td>0</td>\n",
              "      <td>0</td>\n",
              "      <td>No</td>\n",
              "    </tr>\n",
              "    <tr>\n",
              "      <th>1</th>\n",
              "      <td>5.589978e+14</td>\n",
              "      <td>5642503</td>\n",
              "      <td>M</td>\n",
              "      <td>2016-04-29T16:08:27Z</td>\n",
              "      <td>2016-04-29T00:00:00Z</td>\n",
              "      <td>56</td>\n",
              "      <td>JARDIM DA PENHA</td>\n",
              "      <td>0</td>\n",
              "      <td>0</td>\n",
              "      <td>0</td>\n",
              "      <td>0</td>\n",
              "      <td>0</td>\n",
              "      <td>0</td>\n",
              "      <td>No</td>\n",
              "    </tr>\n",
              "    <tr>\n",
              "      <th>2</th>\n",
              "      <td>4.262962e+12</td>\n",
              "      <td>5642549</td>\n",
              "      <td>F</td>\n",
              "      <td>2016-04-29T16:19:04Z</td>\n",
              "      <td>2016-04-29T00:00:00Z</td>\n",
              "      <td>62</td>\n",
              "      <td>MATA DA PRAIA</td>\n",
              "      <td>0</td>\n",
              "      <td>0</td>\n",
              "      <td>0</td>\n",
              "      <td>0</td>\n",
              "      <td>0</td>\n",
              "      <td>0</td>\n",
              "      <td>No</td>\n",
              "    </tr>\n",
              "    <tr>\n",
              "      <th>3</th>\n",
              "      <td>8.679512e+11</td>\n",
              "      <td>5642828</td>\n",
              "      <td>F</td>\n",
              "      <td>2016-04-29T17:29:31Z</td>\n",
              "      <td>2016-04-29T00:00:00Z</td>\n",
              "      <td>8</td>\n",
              "      <td>PONTAL DE CAMBURI</td>\n",
              "      <td>0</td>\n",
              "      <td>0</td>\n",
              "      <td>0</td>\n",
              "      <td>0</td>\n",
              "      <td>0</td>\n",
              "      <td>0</td>\n",
              "      <td>No</td>\n",
              "    </tr>\n",
              "    <tr>\n",
              "      <th>4</th>\n",
              "      <td>8.841186e+12</td>\n",
              "      <td>5642494</td>\n",
              "      <td>F</td>\n",
              "      <td>2016-04-29T16:07:23Z</td>\n",
              "      <td>2016-04-29T00:00:00Z</td>\n",
              "      <td>56</td>\n",
              "      <td>JARDIM DA PENHA</td>\n",
              "      <td>0</td>\n",
              "      <td>1</td>\n",
              "      <td>1</td>\n",
              "      <td>0</td>\n",
              "      <td>0</td>\n",
              "      <td>0</td>\n",
              "      <td>No</td>\n",
              "    </tr>\n",
              "  </tbody>\n",
              "</table>\n",
              "</div>"
            ],
            "text/plain": [
              "      PatientId  AppointmentID Gender          ScheduledDay  \\\n",
              "0  2.987250e+13        5642903      F  2016-04-29T18:38:08Z   \n",
              "1  5.589978e+14        5642503      M  2016-04-29T16:08:27Z   \n",
              "2  4.262962e+12        5642549      F  2016-04-29T16:19:04Z   \n",
              "3  8.679512e+11        5642828      F  2016-04-29T17:29:31Z   \n",
              "4  8.841186e+12        5642494      F  2016-04-29T16:07:23Z   \n",
              "\n",
              "         AppointmentDay  Age      Neighbourhood  Scholarship  Hipertension  \\\n",
              "0  2016-04-29T00:00:00Z   62    JARDIM DA PENHA            0             1   \n",
              "1  2016-04-29T00:00:00Z   56    JARDIM DA PENHA            0             0   \n",
              "2  2016-04-29T00:00:00Z   62      MATA DA PRAIA            0             0   \n",
              "3  2016-04-29T00:00:00Z    8  PONTAL DE CAMBURI            0             0   \n",
              "4  2016-04-29T00:00:00Z   56    JARDIM DA PENHA            0             1   \n",
              "\n",
              "   Diabetes  Alcoholism  Handcap  SMS_received No-show  \n",
              "0         0           0        0             0      No  \n",
              "1         0           0        0             0      No  \n",
              "2         0           0        0             0      No  \n",
              "3         0           0        0             0      No  \n",
              "4         1           0        0             0      No  "
            ]
          },
          "execution_count": 7,
          "metadata": {},
          "output_type": "execute_result"
        }
      ],
      "source": [
        "df.head()"
      ]
    },
    {
      "attachments": {},
      "cell_type": "markdown",
      "metadata": {
        "id": "OzCY1MkvTJSR"
      },
      "source": [
        "# Визуализация"
      ]
    },
    {
      "attachments": {},
      "cell_type": "markdown",
      "metadata": {
        "id": "ptpoultBWCj_"
      },
      "source": [
        "### Распределение числовых признаков"
      ]
    },
    {
      "cell_type": "code",
      "execution_count": 8,
      "metadata": {
        "colab": {
          "base_uri": "https://localhost:8080/",
          "height": 877
        },
        "id": "h6WZ8PnRSUx0",
        "outputId": "a1138b19-a153-49f6-c1d9-299756897d32"
      },
      "outputs": [
        {
          "data": {
            "text/plain": [
              "{'web': 'https://www.comet.com/api/image/download?imageId=5852a863bb374c0e9967d241c2465d03&experimentKey=9300a6c4a2bc4f0380a8544e5d4e0e3d',\n",
              " 'api': 'https://www.comet.com/api/rest/v1/image/get-image?imageId=5852a863bb374c0e9967d241c2465d03&experimentKey=9300a6c4a2bc4f0380a8544e5d4e0e3d',\n",
              " 'imageId': '5852a863bb374c0e9967d241c2465d03'}"
            ]
          },
          "execution_count": 8,
          "metadata": {},
          "output_type": "execute_result"
        },
        {
          "data": {
            "image/png": "[encoded data removed]",
            "text/plain": [
              "<Figure size 1600x1400 with 9 Axes>"
            ]
          },
          "metadata": {},
          "output_type": "display_data"
        }
      ],
      "source": [
        "df.hist(figsize=(16,14));\n",
        "#логируем гистограмму\n",
        "experiment.log_figure(figure=plt)"
      ]
    },
    {
      "attachments": {},
      "cell_type": "markdown",
      "metadata": {},
      "source": [
        "### Исследование корреляции числовых признаков\n"
      ]
    },
    {
      "cell_type": "code",
      "execution_count": 15,
      "metadata": {},
      "outputs": [],
      "source": [
        "numeric_data = ['Age', 'Scholarship', 'Hipertension', 'Diabetes', 'Alcoholism', 'Handcap', 'SMS_received']"
      ]
    },
    {
      "cell_type": "code",
      "execution_count": 17,
      "metadata": {},
      "outputs": [
        {
          "data": {
            "text/plain": [
              "{'web': 'https://www.comet.com/api/image/download?imageId=4484fa8689974ec39c296f255b96f8bc&experimentKey=9300a6c4a2bc4f0380a8544e5d4e0e3d',\n",
              " 'api': 'https://www.comet.com/api/rest/v1/image/get-image?imageId=4484fa8689974ec39c296f255b96f8bc&experimentKey=9300a6c4a2bc4f0380a8544e5d4e0e3d',\n",
              " 'imageId': '4484fa8689974ec39c296f255b96f8bc'}"
            ]
          },
          "execution_count": 17,
          "metadata": {},
          "output_type": "execute_result"
        },
        {
          "data": {
            "image/png": "[encoded data removed]",
            "text/plain": [
              "<Figure size 640x480 with 2 Axes>"
            ]
          },
          "metadata": {},
          "output_type": "display_data"
        }
      ],
      "source": [
        "sns.heatmap(df[numeric_data].corr(), annot=True)\n",
        "#логируем тепловую матрицу корреляции\n",
        "experiment.log_figure(figure=plt)"
      ]
    },
    {
      "cell_type": "code",
      "execution_count": 18,
      "metadata": {},
      "outputs": [
        {
          "name": "stderr",
          "output_type": "stream",
          "text": [
            "\u001b[1;38;5;39mCOMET INFO:\u001b[0m ---------------------------------------------------------------------------------------\n",
            "\u001b[1;38;5;39mCOMET INFO:\u001b[0m Comet.ml Experiment Summary\n",
            "\u001b[1;38;5;39mCOMET INFO:\u001b[0m ---------------------------------------------------------------------------------------\n",
            "\u001b[1;38;5;39mCOMET INFO:\u001b[0m   Data:\n",
            "\u001b[1;38;5;39mCOMET INFO:\u001b[0m     display_summary_level : 1\n",
            "\u001b[1;38;5;39mCOMET INFO:\u001b[0m     url                   : https://www.comet.com/karu8/study-ds-sf/9300a6c4a2bc4f0380a8544e5d4e0e3d\n",
            "\u001b[1;38;5;39mCOMET INFO:\u001b[0m   Uploads:\n",
            "\u001b[1;38;5;39mCOMET INFO:\u001b[0m     environment details      : 1\n",
            "\u001b[1;38;5;39mCOMET INFO:\u001b[0m     figures                  : 2\n",
            "\u001b[1;38;5;39mCOMET INFO:\u001b[0m     filename                 : 1\n",
            "\u001b[1;38;5;39mCOMET INFO:\u001b[0m     git metadata             : 1\n",
            "\u001b[1;38;5;39mCOMET INFO:\u001b[0m     git-patch (uncompressed) : 1 (2.35 KB)\n",
            "\u001b[1;38;5;39mCOMET INFO:\u001b[0m     installed packages       : 1\n",
            "\u001b[1;38;5;39mCOMET INFO:\u001b[0m     notebook                 : 1\n",
            "\u001b[1;38;5;39mCOMET INFO:\u001b[0m     source_code              : 1\n",
            "\u001b[1;38;5;39mCOMET INFO:\u001b[0m \n",
            "\u001b[1;38;5;39mCOMET INFO:\u001b[0m Please wait for metadata to finish uploading (timeout is 3600 seconds)\n"
          ]
        }
      ],
      "source": [
        "experiment.end()"
      ]
    },
    {
      "attachments": {},
      "cell_type": "markdown",
      "metadata": {
        "id": "5BNTQ-1tWG2r"
      },
      "source": [
        "*Проанализируем число людей каждого возраста*"
      ]
    },
    {
      "cell_type": "code",
      "execution_count": null,
      "metadata": {
        "colab": {
          "base_uri": "https://localhost:8080/"
        },
        "id": "RGNyu_sJTYfS",
        "outputId": "3df9516a-eee3-46a4-c8f3-82d26ebd6634"
      },
      "outputs": [
        {
          "name": "stdout",
          "output_type": "stream",
          "text": [
            "Уникальные значения в `Age` => [ 62  56   8  76  23  39  21  19  30  29  22  28  54  15  50  40  46   4\n",
            "  13  65  45  51  32  12  61  38  79  18  63  64  85  59  55  71  49  78\n",
            "  31  58  27   6   2  11   7   0   3   1  69  68  60  67  36  10  35  20\n",
            "  26  34  33  16  42   5  47  17  41  44  37  24  66  77  81  70  53  75\n",
            "  73  52  74  43  89  57  14   9  48  83  72  25  80  87  88  84  82  90\n",
            "  94  86  91  98  92  96  93  95  97 102 115 100  99  -1]\n"
          ]
        }
      ],
      "source": [
        "print(\"Уникальные значения в `Age` => {}\".format(df.Age.unique()))"
      ]
    },
    {
      "cell_type": "code",
      "execution_count": null,
      "metadata": {
        "colab": {
          "base_uri": "https://localhost:8080/"
        },
        "id": "eb1dWovPWYjz",
        "outputId": "85c41a9d-c7fc-4114-bbbc-9e0c861d272e"
      },
      "outputs": [
        {
          "data": {
            "text/plain": [
              "0      3539\n",
              "1      2273\n",
              "52     1746\n",
              "49     1652\n",
              "53     1651\n",
              "       ... \n",
              "97       11\n",
              "98        6\n",
              "100       4\n",
              "102       2\n",
              "99        1\n",
              "Name: Age, Length: 102, dtype: int64"
            ]
          },
          "execution_count": 14,
          "metadata": {},
          "output_type": "execute_result"
        }
      ],
      "source": [
        "# Удалим аномальные значения\n",
        "df = df[(df.Age >= 0) & (df.Age <= 110)]\n",
        "df.Age.value_counts()"
      ]
    },
    {
      "cell_type": "code",
      "execution_count": null,
      "metadata": {
        "colab": {
          "base_uri": "https://localhost:8080/",
          "height": 413
        },
        "id": "OMFj0V8NXMfe",
        "outputId": "0feefc02-6433-48f7-e647-4b63eebb0cd1"
      },
      "outputs": [
        {
          "data": {
            "image/png": "[encoded data removed]",
            "text/plain": [
              "<Figure size 1728x432 with 1 Axes>"
            ]
          },
          "metadata": {
            "needs_background": "light"
          },
          "output_type": "display_data"
        }
      ],
      "source": [
        "plt.figure(figsize=(24,6))\n",
        "plt.xticks(rotation=90)\n",
        "ax = sns.countplot(x=df.Age)\n",
        "ax.set_title(\"Распределение пациентов по возрасту\")\n",
        "experiment.log_figure(figure=plt)\n",
        "plt.show()"
      ]
    },
    {
      "attachments": {},
      "cell_type": "markdown",
      "metadata": {
        "id": "kq473GcDZFek"
      },
      "source": [
        "# Придет ли пациент на назначенный приием? "
      ]
    },
    {
      "cell_type": "code",
      "execution_count": null,
      "metadata": {
        "colab": {
          "base_uri": "https://localhost:8080/"
        },
        "id": "5oXcfkNKZjdd",
        "outputId": "ff0c57dc-7ef6-43b4-82bc-958ee2bacfcc"
      },
      "outputs": [
        {
          "name": "stdout",
          "output_type": "stream",
          "text": [
            "<class 'pandas.core.frame.DataFrame'>\n",
            "Int64Index: 110521 entries, 0 to 110526\n",
            "Data columns (total 14 columns):\n",
            " #   Column          Non-Null Count   Dtype  \n",
            "---  ------          --------------   -----  \n",
            " 0   PatientId       110521 non-null  float64\n",
            " 1   AppointmentID   110521 non-null  int64  \n",
            " 2   Gender          110521 non-null  object \n",
            " 3   ScheduledDay    110521 non-null  object \n",
            " 4   AppointmentDay  110521 non-null  object \n",
            " 5   Age             110521 non-null  int64  \n",
            " 6   Neighbourhood   110521 non-null  object \n",
            " 7   Scholarship     110521 non-null  int64  \n",
            " 8   Hipertension    110521 non-null  int64  \n",
            " 9   Diabetes        110521 non-null  int64  \n",
            " 10  Alcoholism      110521 non-null  int64  \n",
            " 11  Handcap         110521 non-null  int64  \n",
            " 12  SMS_received    110521 non-null  int64  \n",
            " 13  No-show         110521 non-null  object \n",
            "dtypes: float64(1), int64(8), object(5)\n",
            "memory usage: 17.6+ MB\n"
          ]
        }
      ],
      "source": [
        "df.info()"
      ]
    },
    {
      "attachments": {},
      "cell_type": "markdown",
      "metadata": {
        "id": "24uKsoaBjH0B"
      },
      "source": [
        "## Кодировка категориальных признаков"
      ]
    },
    {
      "cell_type": "code",
      "execution_count": null,
      "metadata": {
        "id": "1J8JAzwmjeKW"
      },
      "outputs": [],
      "source": [
        "categorical_columns_names = ['Gender', 'Neighbourhood']"
      ]
    },
    {
      "cell_type": "code",
      "execution_count": null,
      "metadata": {
        "id": "lgOtCCRTkIle"
      },
      "outputs": [],
      "source": [
        "encoded_columns = pd.get_dummies(df, columns = categorical_columns_names)"
      ]
    },
    {
      "cell_type": "code",
      "execution_count": null,
      "metadata": {
        "id": "okMGD3TmmGpE"
      },
      "outputs": [],
      "source": [
        "encoded_columns.drop(['AppointmentID', 'PatientId', 'ScheduledDay', 'AppointmentDay', 'No-show'], axis=1, inplace = True)"
      ]
    },
    {
      "cell_type": "code",
      "execution_count": null,
      "metadata": {
        "colab": {
          "base_uri": "https://localhost:8080/",
          "height": 317
        },
        "id": "fNGfrwh7mtR3",
        "outputId": "9da1b29a-394e-4f76-baa9-47054f2a3b9a"
      },
      "outputs": [
        {
          "data": {
            "text/html": [
              "\n",
              "  <div id=\"df-51b31962-16e2-4ae8-825c-7ba44eb5c975\">\n",
              "    <div class=\"colab-df-container\">\n",
              "      <div>\n",
              "<style scoped>\n",
              "    .dataframe tbody tr th:only-of-type {\n",
              "        vertical-align: middle;\n",
              "    }\n",
              "\n",
              "    .dataframe tbody tr th {\n",
              "        vertical-align: top;\n",
              "    }\n",
              "\n",
              "    .dataframe thead th {\n",
              "        text-align: right;\n",
              "    }\n",
              "</style>\n",
              "<table border=\"1\" class=\"dataframe\">\n",
              "  <thead>\n",
              "    <tr style=\"text-align: right;\">\n",
              "      <th></th>\n",
              "      <th>Age</th>\n",
              "      <th>Scholarship</th>\n",
              "      <th>Hipertension</th>\n",
              "      <th>Diabetes</th>\n",
              "      <th>Alcoholism</th>\n",
              "      <th>Handcap</th>\n",
              "      <th>SMS_received</th>\n",
              "      <th>Gender_F</th>\n",
              "      <th>Gender_M</th>\n",
              "      <th>Neighbourhood_AEROPORTO</th>\n",
              "      <th>Neighbourhood_ANDORINHAS</th>\n",
              "      <th>Neighbourhood_ANTÔNIO HONÓRIO</th>\n",
              "      <th>Neighbourhood_ARIOVALDO FAVALESSA</th>\n",
              "      <th>Neighbourhood_BARRO VERMELHO</th>\n",
              "      <th>Neighbourhood_BELA VISTA</th>\n",
              "      <th>Neighbourhood_BENTO FERREIRA</th>\n",
              "      <th>Neighbourhood_BOA VISTA</th>\n",
              "      <th>Neighbourhood_BONFIM</th>\n",
              "      <th>Neighbourhood_CARATOÍRA</th>\n",
              "      <th>Neighbourhood_CENTRO</th>\n",
              "      <th>Neighbourhood_COMDUSA</th>\n",
              "      <th>Neighbourhood_CONQUISTA</th>\n",
              "      <th>Neighbourhood_CONSOLAÇÃO</th>\n",
              "      <th>Neighbourhood_CRUZAMENTO</th>\n",
              "      <th>Neighbourhood_DA PENHA</th>\n",
              "      <th>Neighbourhood_DE LOURDES</th>\n",
              "      <th>Neighbourhood_DO CABRAL</th>\n",
              "      <th>Neighbourhood_DO MOSCOSO</th>\n",
              "      <th>Neighbourhood_DO QUADRO</th>\n",
              "      <th>Neighbourhood_ENSEADA DO SUÁ</th>\n",
              "      <th>Neighbourhood_ESTRELINHA</th>\n",
              "      <th>Neighbourhood_FONTE GRANDE</th>\n",
              "      <th>Neighbourhood_FORTE SÃO JOÃO</th>\n",
              "      <th>Neighbourhood_FRADINHOS</th>\n",
              "      <th>Neighbourhood_GOIABEIRAS</th>\n",
              "      <th>Neighbourhood_GRANDE VITÓRIA</th>\n",
              "      <th>Neighbourhood_GURIGICA</th>\n",
              "      <th>Neighbourhood_HORTO</th>\n",
              "      <th>Neighbourhood_ILHA DAS CAIEIRAS</th>\n",
              "      <th>Neighbourhood_ILHA DE SANTA MARIA</th>\n",
              "      <th>...</th>\n",
              "      <th>Neighbourhood_JOANA D´ARC</th>\n",
              "      <th>Neighbourhood_JUCUTUQUARA</th>\n",
              "      <th>Neighbourhood_MARIA ORTIZ</th>\n",
              "      <th>Neighbourhood_MARUÍPE</th>\n",
              "      <th>Neighbourhood_MATA DA PRAIA</th>\n",
              "      <th>Neighbourhood_MONTE BELO</th>\n",
              "      <th>Neighbourhood_MORADA DE CAMBURI</th>\n",
              "      <th>Neighbourhood_MÁRIO CYPRESTE</th>\n",
              "      <th>Neighbourhood_NAZARETH</th>\n",
              "      <th>Neighbourhood_NOVA PALESTINA</th>\n",
              "      <th>Neighbourhood_PARQUE INDUSTRIAL</th>\n",
              "      <th>Neighbourhood_PARQUE MOSCOSO</th>\n",
              "      <th>Neighbourhood_PIEDADE</th>\n",
              "      <th>Neighbourhood_PONTAL DE CAMBURI</th>\n",
              "      <th>Neighbourhood_PRAIA DO CANTO</th>\n",
              "      <th>Neighbourhood_PRAIA DO SUÁ</th>\n",
              "      <th>Neighbourhood_REDENÇÃO</th>\n",
              "      <th>Neighbourhood_REPÚBLICA</th>\n",
              "      <th>Neighbourhood_RESISTÊNCIA</th>\n",
              "      <th>Neighbourhood_ROMÃO</th>\n",
              "      <th>Neighbourhood_SANTA CECÍLIA</th>\n",
              "      <th>Neighbourhood_SANTA CLARA</th>\n",
              "      <th>Neighbourhood_SANTA HELENA</th>\n",
              "      <th>Neighbourhood_SANTA LUÍZA</th>\n",
              "      <th>Neighbourhood_SANTA LÚCIA</th>\n",
              "      <th>Neighbourhood_SANTA MARTHA</th>\n",
              "      <th>Neighbourhood_SANTA TEREZA</th>\n",
              "      <th>Neighbourhood_SANTO ANDRÉ</th>\n",
              "      <th>Neighbourhood_SANTO ANTÔNIO</th>\n",
              "      <th>Neighbourhood_SANTOS DUMONT</th>\n",
              "      <th>Neighbourhood_SANTOS REIS</th>\n",
              "      <th>Neighbourhood_SEGURANÇA DO LAR</th>\n",
              "      <th>Neighbourhood_SOLON BORGES</th>\n",
              "      <th>Neighbourhood_SÃO BENEDITO</th>\n",
              "      <th>Neighbourhood_SÃO CRISTÓVÃO</th>\n",
              "      <th>Neighbourhood_SÃO JOSÉ</th>\n",
              "      <th>Neighbourhood_SÃO PEDRO</th>\n",
              "      <th>Neighbourhood_TABUAZEIRO</th>\n",
              "      <th>Neighbourhood_UNIVERSITÁRIO</th>\n",
              "      <th>Neighbourhood_VILA RUBIM</th>\n",
              "    </tr>\n",
              "  </thead>\n",
              "  <tbody>\n",
              "    <tr>\n",
              "      <th>0</th>\n",
              "      <td>62</td>\n",
              "      <td>0</td>\n",
              "      <td>1</td>\n",
              "      <td>0</td>\n",
              "      <td>0</td>\n",
              "      <td>0</td>\n",
              "      <td>0</td>\n",
              "      <td>1</td>\n",
              "      <td>0</td>\n",
              "      <td>0</td>\n",
              "      <td>0</td>\n",
              "      <td>0</td>\n",
              "      <td>0</td>\n",
              "      <td>0</td>\n",
              "      <td>0</td>\n",
              "      <td>0</td>\n",
              "      <td>0</td>\n",
              "      <td>0</td>\n",
              "      <td>0</td>\n",
              "      <td>0</td>\n",
              "      <td>0</td>\n",
              "      <td>0</td>\n",
              "      <td>0</td>\n",
              "      <td>0</td>\n",
              "      <td>0</td>\n",
              "      <td>0</td>\n",
              "      <td>0</td>\n",
              "      <td>0</td>\n",
              "      <td>0</td>\n",
              "      <td>0</td>\n",
              "      <td>0</td>\n",
              "      <td>0</td>\n",
              "      <td>0</td>\n",
              "      <td>0</td>\n",
              "      <td>0</td>\n",
              "      <td>0</td>\n",
              "      <td>0</td>\n",
              "      <td>0</td>\n",
              "      <td>0</td>\n",
              "      <td>0</td>\n",
              "      <td>...</td>\n",
              "      <td>0</td>\n",
              "      <td>0</td>\n",
              "      <td>0</td>\n",
              "      <td>0</td>\n",
              "      <td>0</td>\n",
              "      <td>0</td>\n",
              "      <td>0</td>\n",
              "      <td>0</td>\n",
              "      <td>0</td>\n",
              "      <td>0</td>\n",
              "      <td>0</td>\n",
              "      <td>0</td>\n",
              "      <td>0</td>\n",
              "      <td>0</td>\n",
              "      <td>0</td>\n",
              "      <td>0</td>\n",
              "      <td>0</td>\n",
              "      <td>0</td>\n",
              "      <td>0</td>\n",
              "      <td>0</td>\n",
              "      <td>0</td>\n",
              "      <td>0</td>\n",
              "      <td>0</td>\n",
              "      <td>0</td>\n",
              "      <td>0</td>\n",
              "      <td>0</td>\n",
              "      <td>0</td>\n",
              "      <td>0</td>\n",
              "      <td>0</td>\n",
              "      <td>0</td>\n",
              "      <td>0</td>\n",
              "      <td>0</td>\n",
              "      <td>0</td>\n",
              "      <td>0</td>\n",
              "      <td>0</td>\n",
              "      <td>0</td>\n",
              "      <td>0</td>\n",
              "      <td>0</td>\n",
              "      <td>0</td>\n",
              "      <td>0</td>\n",
              "    </tr>\n",
              "    <tr>\n",
              "      <th>1</th>\n",
              "      <td>56</td>\n",
              "      <td>0</td>\n",
              "      <td>0</td>\n",
              "      <td>0</td>\n",
              "      <td>0</td>\n",
              "      <td>0</td>\n",
              "      <td>0</td>\n",
              "      <td>0</td>\n",
              "      <td>1</td>\n",
              "      <td>0</td>\n",
              "      <td>0</td>\n",
              "      <td>0</td>\n",
              "      <td>0</td>\n",
              "      <td>0</td>\n",
              "      <td>0</td>\n",
              "      <td>0</td>\n",
              "      <td>0</td>\n",
              "      <td>0</td>\n",
              "      <td>0</td>\n",
              "      <td>0</td>\n",
              "      <td>0</td>\n",
              "      <td>0</td>\n",
              "      <td>0</td>\n",
              "      <td>0</td>\n",
              "      <td>0</td>\n",
              "      <td>0</td>\n",
              "      <td>0</td>\n",
              "      <td>0</td>\n",
              "      <td>0</td>\n",
              "      <td>0</td>\n",
              "      <td>0</td>\n",
              "      <td>0</td>\n",
              "      <td>0</td>\n",
              "      <td>0</td>\n",
              "      <td>0</td>\n",
              "      <td>0</td>\n",
              "      <td>0</td>\n",
              "      <td>0</td>\n",
              "      <td>0</td>\n",
              "      <td>0</td>\n",
              "      <td>...</td>\n",
              "      <td>0</td>\n",
              "      <td>0</td>\n",
              "      <td>0</td>\n",
              "      <td>0</td>\n",
              "      <td>0</td>\n",
              "      <td>0</td>\n",
              "      <td>0</td>\n",
              "      <td>0</td>\n",
              "      <td>0</td>\n",
              "      <td>0</td>\n",
              "      <td>0</td>\n",
              "      <td>0</td>\n",
              "      <td>0</td>\n",
              "      <td>0</td>\n",
              "      <td>0</td>\n",
              "      <td>0</td>\n",
              "      <td>0</td>\n",
              "      <td>0</td>\n",
              "      <td>0</td>\n",
              "      <td>0</td>\n",
              "      <td>0</td>\n",
              "      <td>0</td>\n",
              "      <td>0</td>\n",
              "      <td>0</td>\n",
              "      <td>0</td>\n",
              "      <td>0</td>\n",
              "      <td>0</td>\n",
              "      <td>0</td>\n",
              "      <td>0</td>\n",
              "      <td>0</td>\n",
              "      <td>0</td>\n",
              "      <td>0</td>\n",
              "      <td>0</td>\n",
              "      <td>0</td>\n",
              "      <td>0</td>\n",
              "      <td>0</td>\n",
              "      <td>0</td>\n",
              "      <td>0</td>\n",
              "      <td>0</td>\n",
              "      <td>0</td>\n",
              "    </tr>\n",
              "    <tr>\n",
              "      <th>2</th>\n",
              "      <td>62</td>\n",
              "      <td>0</td>\n",
              "      <td>0</td>\n",
              "      <td>0</td>\n",
              "      <td>0</td>\n",
              "      <td>0</td>\n",
              "      <td>0</td>\n",
              "      <td>1</td>\n",
              "      <td>0</td>\n",
              "      <td>0</td>\n",
              "      <td>0</td>\n",
              "      <td>0</td>\n",
              "      <td>0</td>\n",
              "      <td>0</td>\n",
              "      <td>0</td>\n",
              "      <td>0</td>\n",
              "      <td>0</td>\n",
              "      <td>0</td>\n",
              "      <td>0</td>\n",
              "      <td>0</td>\n",
              "      <td>0</td>\n",
              "      <td>0</td>\n",
              "      <td>0</td>\n",
              "      <td>0</td>\n",
              "      <td>0</td>\n",
              "      <td>0</td>\n",
              "      <td>0</td>\n",
              "      <td>0</td>\n",
              "      <td>0</td>\n",
              "      <td>0</td>\n",
              "      <td>0</td>\n",
              "      <td>0</td>\n",
              "      <td>0</td>\n",
              "      <td>0</td>\n",
              "      <td>0</td>\n",
              "      <td>0</td>\n",
              "      <td>0</td>\n",
              "      <td>0</td>\n",
              "      <td>0</td>\n",
              "      <td>0</td>\n",
              "      <td>...</td>\n",
              "      <td>0</td>\n",
              "      <td>0</td>\n",
              "      <td>0</td>\n",
              "      <td>0</td>\n",
              "      <td>1</td>\n",
              "      <td>0</td>\n",
              "      <td>0</td>\n",
              "      <td>0</td>\n",
              "      <td>0</td>\n",
              "      <td>0</td>\n",
              "      <td>0</td>\n",
              "      <td>0</td>\n",
              "      <td>0</td>\n",
              "      <td>0</td>\n",
              "      <td>0</td>\n",
              "      <td>0</td>\n",
              "      <td>0</td>\n",
              "      <td>0</td>\n",
              "      <td>0</td>\n",
              "      <td>0</td>\n",
              "      <td>0</td>\n",
              "      <td>0</td>\n",
              "      <td>0</td>\n",
              "      <td>0</td>\n",
              "      <td>0</td>\n",
              "      <td>0</td>\n",
              "      <td>0</td>\n",
              "      <td>0</td>\n",
              "      <td>0</td>\n",
              "      <td>0</td>\n",
              "      <td>0</td>\n",
              "      <td>0</td>\n",
              "      <td>0</td>\n",
              "      <td>0</td>\n",
              "      <td>0</td>\n",
              "      <td>0</td>\n",
              "      <td>0</td>\n",
              "      <td>0</td>\n",
              "      <td>0</td>\n",
              "      <td>0</td>\n",
              "    </tr>\n",
              "    <tr>\n",
              "      <th>3</th>\n",
              "      <td>8</td>\n",
              "      <td>0</td>\n",
              "      <td>0</td>\n",
              "      <td>0</td>\n",
              "      <td>0</td>\n",
              "      <td>0</td>\n",
              "      <td>0</td>\n",
              "      <td>1</td>\n",
              "      <td>0</td>\n",
              "      <td>0</td>\n",
              "      <td>0</td>\n",
              "      <td>0</td>\n",
              "      <td>0</td>\n",
              "      <td>0</td>\n",
              "      <td>0</td>\n",
              "      <td>0</td>\n",
              "      <td>0</td>\n",
              "      <td>0</td>\n",
              "      <td>0</td>\n",
              "      <td>0</td>\n",
              "      <td>0</td>\n",
              "      <td>0</td>\n",
              "      <td>0</td>\n",
              "      <td>0</td>\n",
              "      <td>0</td>\n",
              "      <td>0</td>\n",
              "      <td>0</td>\n",
              "      <td>0</td>\n",
              "      <td>0</td>\n",
              "      <td>0</td>\n",
              "      <td>0</td>\n",
              "      <td>0</td>\n",
              "      <td>0</td>\n",
              "      <td>0</td>\n",
              "      <td>0</td>\n",
              "      <td>0</td>\n",
              "      <td>0</td>\n",
              "      <td>0</td>\n",
              "      <td>0</td>\n",
              "      <td>0</td>\n",
              "      <td>...</td>\n",
              "      <td>0</td>\n",
              "      <td>0</td>\n",
              "      <td>0</td>\n",
              "      <td>0</td>\n",
              "      <td>0</td>\n",
              "      <td>0</td>\n",
              "      <td>0</td>\n",
              "      <td>0</td>\n",
              "      <td>0</td>\n",
              "      <td>0</td>\n",
              "      <td>0</td>\n",
              "      <td>0</td>\n",
              "      <td>0</td>\n",
              "      <td>1</td>\n",
              "      <td>0</td>\n",
              "      <td>0</td>\n",
              "      <td>0</td>\n",
              "      <td>0</td>\n",
              "      <td>0</td>\n",
              "      <td>0</td>\n",
              "      <td>0</td>\n",
              "      <td>0</td>\n",
              "      <td>0</td>\n",
              "      <td>0</td>\n",
              "      <td>0</td>\n",
              "      <td>0</td>\n",
              "      <td>0</td>\n",
              "      <td>0</td>\n",
              "      <td>0</td>\n",
              "      <td>0</td>\n",
              "      <td>0</td>\n",
              "      <td>0</td>\n",
              "      <td>0</td>\n",
              "      <td>0</td>\n",
              "      <td>0</td>\n",
              "      <td>0</td>\n",
              "      <td>0</td>\n",
              "      <td>0</td>\n",
              "      <td>0</td>\n",
              "      <td>0</td>\n",
              "    </tr>\n",
              "    <tr>\n",
              "      <th>4</th>\n",
              "      <td>56</td>\n",
              "      <td>0</td>\n",
              "      <td>1</td>\n",
              "      <td>1</td>\n",
              "      <td>0</td>\n",
              "      <td>0</td>\n",
              "      <td>0</td>\n",
              "      <td>1</td>\n",
              "      <td>0</td>\n",
              "      <td>0</td>\n",
              "      <td>0</td>\n",
              "      <td>0</td>\n",
              "      <td>0</td>\n",
              "      <td>0</td>\n",
              "      <td>0</td>\n",
              "      <td>0</td>\n",
              "      <td>0</td>\n",
              "      <td>0</td>\n",
              "      <td>0</td>\n",
              "      <td>0</td>\n",
              "      <td>0</td>\n",
              "      <td>0</td>\n",
              "      <td>0</td>\n",
              "      <td>0</td>\n",
              "      <td>0</td>\n",
              "      <td>0</td>\n",
              "      <td>0</td>\n",
              "      <td>0</td>\n",
              "      <td>0</td>\n",
              "      <td>0</td>\n",
              "      <td>0</td>\n",
              "      <td>0</td>\n",
              "      <td>0</td>\n",
              "      <td>0</td>\n",
              "      <td>0</td>\n",
              "      <td>0</td>\n",
              "      <td>0</td>\n",
              "      <td>0</td>\n",
              "      <td>0</td>\n",
              "      <td>0</td>\n",
              "      <td>...</td>\n",
              "      <td>0</td>\n",
              "      <td>0</td>\n",
              "      <td>0</td>\n",
              "      <td>0</td>\n",
              "      <td>0</td>\n",
              "      <td>0</td>\n",
              "      <td>0</td>\n",
              "      <td>0</td>\n",
              "      <td>0</td>\n",
              "      <td>0</td>\n",
              "      <td>0</td>\n",
              "      <td>0</td>\n",
              "      <td>0</td>\n",
              "      <td>0</td>\n",
              "      <td>0</td>\n",
              "      <td>0</td>\n",
              "      <td>0</td>\n",
              "      <td>0</td>\n",
              "      <td>0</td>\n",
              "      <td>0</td>\n",
              "      <td>0</td>\n",
              "      <td>0</td>\n",
              "      <td>0</td>\n",
              "      <td>0</td>\n",
              "      <td>0</td>\n",
              "      <td>0</td>\n",
              "      <td>0</td>\n",
              "      <td>0</td>\n",
              "      <td>0</td>\n",
              "      <td>0</td>\n",
              "      <td>0</td>\n",
              "      <td>0</td>\n",
              "      <td>0</td>\n",
              "      <td>0</td>\n",
              "      <td>0</td>\n",
              "      <td>0</td>\n",
              "      <td>0</td>\n",
              "      <td>0</td>\n",
              "      <td>0</td>\n",
              "      <td>0</td>\n",
              "    </tr>\n",
              "  </tbody>\n",
              "</table>\n",
              "<p>5 rows × 90 columns</p>\n",
              "</div>\n",
              "      <button class=\"colab-df-convert\" onclick=\"convertToInteractive('df-51b31962-16e2-4ae8-825c-7ba44eb5c975')\"\n",
              "              title=\"Convert this dataframe to an interactive table.\"\n",
              "              style=\"display:none;\">\n",
              "        \n",
              "  <svg xmlns=\"http://www.w3.org/2000/svg\" height=\"24px\"viewBox=\"0 0 24 24\"\n",
              "       width=\"24px\">\n",
              "    <path d=\"M0 0h24v24H0V0z\" fill=\"none\"/>\n",
              "    <path d=\"M18.56 5.44l.94 2.06.94-2.06 2.06-.94-2.06-.94-.94-2.06-.94 2.06-2.06.94zm-11 1L8.5 8.5l.94-2.06 2.06-.94-2.06-.94L8.5 2.5l-.94 2.06-2.06.94zm10 10l.94 2.06.94-2.06 2.06-.94-2.06-.94-.94-2.06-.94 2.06-2.06.94z\"/><path d=\"M17.41 7.96l-1.37-1.37c-.4-.4-.92-.59-1.43-.59-.52 0-1.04.2-1.43.59L10.3 9.45l-7.72 7.72c-.78.78-.78 2.05 0 2.83L4 21.41c.39.39.9.59 1.41.59.51 0 1.02-.2 1.41-.59l7.78-7.78 2.81-2.81c.8-.78.8-2.07 0-2.86zM5.41 20L4 18.59l7.72-7.72 1.47 1.35L5.41 20z\"/>\n",
              "  </svg>\n",
              "      </button>\n",
              "      \n",
              "  <style>\n",
              "    .colab-df-container {\n",
              "      display:flex;\n",
              "      flex-wrap:wrap;\n",
              "      gap: 12px;\n",
              "    }\n",
              "\n",
              "    .colab-df-convert {\n",
              "      background-color: #E8F0FE;\n",
              "      border: none;\n",
              "      border-radius: 50%;\n",
              "      cursor: pointer;\n",
              "      display: none;\n",
              "      fill: #1967D2;\n",
              "      height: 32px;\n",
              "      padding: 0 0 0 0;\n",
              "      width: 32px;\n",
              "    }\n",
              "\n",
              "    .colab-df-convert:hover {\n",
              "      background-color: #E2EBFA;\n",
              "      box-shadow: 0px 1px 2px rgba(60, 64, 67, 0.3), 0px 1px 3px 1px rgba(60, 64, 67, 0.15);\n",
              "      fill: #174EA6;\n",
              "    }\n",
              "\n",
              "    [theme=dark] .colab-df-convert {\n",
              "      background-color: #3B4455;\n",
              "      fill: #D2E3FC;\n",
              "    }\n",
              "\n",
              "    [theme=dark] .colab-df-convert:hover {\n",
              "      background-color: #434B5C;\n",
              "      box-shadow: 0px 1px 3px 1px rgba(0, 0, 0, 0.15);\n",
              "      filter: drop-shadow(0px 1px 2px rgba(0, 0, 0, 0.3));\n",
              "      fill: #FFFFFF;\n",
              "    }\n",
              "  </style>\n",
              "\n",
              "      <script>\n",
              "        const buttonEl =\n",
              "          document.querySelector('#df-51b31962-16e2-4ae8-825c-7ba44eb5c975 button.colab-df-convert');\n",
              "        buttonEl.style.display =\n",
              "          google.colab.kernel.accessAllowed ? 'block' : 'none';\n",
              "\n",
              "        async function convertToInteractive(key) {\n",
              "          const element = document.querySelector('#df-51b31962-16e2-4ae8-825c-7ba44eb5c975');\n",
              "          const dataTable =\n",
              "            await google.colab.kernel.invokeFunction('convertToInteractive',\n",
              "                                                     [key], {});\n",
              "          if (!dataTable) return;\n",
              "\n",
              "          const docLinkHtml = 'Like what you see? Visit the ' +\n",
              "            '<a target=\"_blank\" href=https://colab.research.google.com/notebooks/data_table.ipynb>data table notebook</a>'\n",
              "            + ' to learn more about interactive tables.';\n",
              "          element.innerHTML = '';\n",
              "          dataTable['output_type'] = 'display_data';\n",
              "          await google.colab.output.renderOutput(dataTable, element);\n",
              "          const docLink = document.createElement('div');\n",
              "          docLink.innerHTML = docLinkHtml;\n",
              "          element.appendChild(docLink);\n",
              "        }\n",
              "      </script>\n",
              "    </div>\n",
              "  </div>\n",
              "  "
            ],
            "text/plain": [
              "   Age  Scholarship  ...  Neighbourhood_UNIVERSITÁRIO  Neighbourhood_VILA RUBIM\n",
              "0   62            0  ...                            0                         0\n",
              "1   56            0  ...                            0                         0\n",
              "2   62            0  ...                            0                         0\n",
              "3    8            0  ...                            0                         0\n",
              "4   56            0  ...                            0                         0\n",
              "\n",
              "[5 rows x 90 columns]"
            ]
          },
          "execution_count": 20,
          "metadata": {},
          "output_type": "execute_result"
        }
      ],
      "source": [
        "encoded_columns.head()"
      ]
    },
    {
      "cell_type": "code",
      "execution_count": null,
      "metadata": {
        "id": "aqllZjq0Z0Rp"
      },
      "outputs": [],
      "source": [
        "y = df['No-show']"
      ]
    },
    {
      "cell_type": "code",
      "execution_count": null,
      "metadata": {
        "colab": {
          "base_uri": "https://localhost:8080/"
        },
        "id": "q84BeK5ttWRe",
        "outputId": "b1752a6d-6ab9-48e2-d77d-e5ccc95baaff"
      },
      "outputs": [
        {
          "data": {
            "text/plain": [
              "0         No\n",
              "1         No\n",
              "2         No\n",
              "3         No\n",
              "4         No\n",
              "          ..\n",
              "110522    No\n",
              "110523    No\n",
              "110524    No\n",
              "110525    No\n",
              "110526    No\n",
              "Name: No-show, Length: 110521, dtype: object"
            ]
          },
          "execution_count": 22,
          "metadata": {},
          "output_type": "execute_result"
        }
      ],
      "source": [
        "y"
      ]
    },
    {
      "cell_type": "code",
      "execution_count": null,
      "metadata": {
        "id": "H5wB-62WnxUY"
      },
      "outputs": [],
      "source": [
        "y = y.replace({'No': 0, 'Yes': 1})"
      ]
    },
    {
      "cell_type": "code",
      "execution_count": null,
      "metadata": {
        "colab": {
          "base_uri": "https://localhost:8080/"
        },
        "id": "oX2skGG-odCx",
        "outputId": "a4f32ca5-3fcd-482e-842f-c85daa739eec"
      },
      "outputs": [
        {
          "data": {
            "text/plain": [
              "0    0.798084\n",
              "1    0.201916\n",
              "Name: No-show, dtype: float64"
            ]
          },
          "execution_count": 24,
          "metadata": {},
          "output_type": "execute_result"
        }
      ],
      "source": [
        "y.value_counts(True)"
      ]
    },
    {
      "attachments": {},
      "cell_type": "markdown",
      "metadata": {
        "id": "HFqVvPJAnKmt"
      },
      "source": [
        "## Шкалирование данных"
      ]
    },
    {
      "cell_type": "code",
      "execution_count": null,
      "metadata": {
        "id": "iY4UeiB1nN0f"
      },
      "outputs": [],
      "source": [
        "from sklearn.preprocessing import MinMaxScaler"
      ]
    },
    {
      "cell_type": "code",
      "execution_count": null,
      "metadata": {
        "id": "jOY0PfPWnVV4"
      },
      "outputs": [],
      "source": [
        "scaler = MinMaxScaler()\n",
        "X = scaler.fit_transform(encoded_columns)"
      ]
    },
    {
      "cell_type": "code",
      "execution_count": null,
      "metadata": {
        "colab": {
          "base_uri": "https://localhost:8080/"
        },
        "id": "I5OtnT9gm8LP",
        "outputId": "17283f66-be6c-4f47-f691-c3c67c12e1d6"
      },
      "outputs": [
        {
          "name": "stdout",
          "output_type": "stream",
          "text": [
            "(110521, 90)\n"
          ]
        }
      ],
      "source": [
        "print(X.shape)"
      ]
    },
    {
      "attachments": {},
      "cell_type": "markdown",
      "metadata": {
        "id": "Qo2K5d25o8bF"
      },
      "source": [
        "# Модель (этот раздел будет подробно изучен далее в курсе)"
      ]
    },
    {
      "cell_type": "code",
      "execution_count": null,
      "metadata": {
        "id": "nZDLlWa4Z2k4"
      },
      "outputs": [],
      "source": [
        "from sklearn.linear_model import LogisticRegression\n",
        "from sklearn.metrics import accuracy_score"
      ]
    },
    {
      "attachments": {},
      "cell_type": "markdown",
      "metadata": {
        "id": "XebBCLaaaN-o"
      },
      "source": [
        "### Инициализация модели"
      ]
    },
    {
      "cell_type": "code",
      "execution_count": null,
      "metadata": {
        "id": "LQqudwBtaCRs"
      },
      "outputs": [],
      "source": [
        "logreg = LogisticRegression()"
      ]
    },
    {
      "cell_type": "code",
      "execution_count": null,
      "metadata": {
        "id": "I6YmYYobaT-u"
      },
      "outputs": [],
      "source": [
        "random_state = 42"
      ]
    },
    {
      "attachments": {},
      "cell_type": "markdown",
      "metadata": {
        "id": "A_gkA53ybxqa"
      },
      "source": [
        "### Обучение модели"
      ]
    },
    {
      "cell_type": "code",
      "execution_count": null,
      "metadata": {
        "colab": {
          "base_uri": "https://localhost:8080/"
        },
        "id": "R1BSRYG9amr7",
        "outputId": "7b6876f8-40b4-4896-9069-5eeb20c87e96"
      },
      "outputs": [
        {
          "name": "stderr",
          "output_type": "stream",
          "text": [
            "/usr/local/lib/python3.7/dist-packages/sklearn/linear_model/_logistic.py:818: ConvergenceWarning: lbfgs failed to converge (status=1):\n",
            "STOP: TOTAL NO. of ITERATIONS REACHED LIMIT.\n",
            "\n",
            "Increase the number of iterations (max_iter) or scale the data as shown in:\n",
            "    https://scikit-learn.org/stable/modules/preprocessing.html\n",
            "Please also refer to the documentation for alternative solver options:\n",
            "    https://scikit-learn.org/stable/modules/linear_model.html#logistic-regression\n",
            "  extra_warning_msg=_LOGISTIC_SOLVER_CONVERGENCE_MSG,\n"
          ]
        },
        {
          "data": {
            "text/plain": [
              "LogisticRegression()"
            ]
          },
          "execution_count": 31,
          "metadata": {},
          "output_type": "execute_result"
        }
      ],
      "source": [
        "logreg.fit(X, y)"
      ]
    },
    {
      "attachments": {},
      "cell_type": "markdown",
      "metadata": {
        "id": "6YN1DZFicf4l"
      },
      "source": [
        "#### Логирование параметров обучения"
      ]
    },
    {
      "cell_type": "code",
      "execution_count": null,
      "metadata": {
        "id": "wGADA8ercl7k"
      },
      "outputs": [],
      "source": [
        "params={\"random_state\":random_state,\n",
        "        \"model_type\":\"logreg\"\n",
        "}"
      ]
    },
    {
      "cell_type": "code",
      "execution_count": null,
      "metadata": {
        "id": "ZOwq-iBJcsKU"
      },
      "outputs": [],
      "source": [
        "experiment.log_parameters(params)"
      ]
    },
    {
      "attachments": {},
      "cell_type": "markdown",
      "metadata": {
        "id": "l4gGfkqtb4IR"
      },
      "source": [
        "### Предсказания модели"
      ]
    },
    {
      "cell_type": "code",
      "execution_count": null,
      "metadata": {
        "id": "Z-_AH_f3b55w"
      },
      "outputs": [],
      "source": [
        "y_pred = logreg.predict(X)"
      ]
    },
    {
      "attachments": {},
      "cell_type": "markdown",
      "metadata": {
        "id": "X5o9LBBab-cH"
      },
      "source": [
        "### Анализ модели"
      ]
    },
    {
      "cell_type": "code",
      "execution_count": null,
      "metadata": {
        "colab": {
          "base_uri": "https://localhost:8080/"
        },
        "id": "uigAO6s1Z-xK",
        "outputId": "7c10a88f-14ad-48b4-b1b5-2a4ae23c46d3"
      },
      "outputs": [
        {
          "name": "stdout",
          "output_type": "stream",
          "text": [
            "Доля правильных ответов:  0.798\n"
          ]
        }
      ],
      "source": [
        "accuracy = accuracy_score(y, y_pred)\n",
        "\n",
        "print(\"Доля правильных ответов: {:6.3f}\".format(accuracy))"
      ]
    },
    {
      "attachments": {},
      "cell_type": "markdown",
      "metadata": {
        "id": "nltneNyYdAcE"
      },
      "source": [
        "# Логирование метрик"
      ]
    },
    {
      "cell_type": "code",
      "execution_count": null,
      "metadata": {
        "id": "46QiPA6jc0gQ"
      },
      "outputs": [],
      "source": [
        "metrics = {\"accuracy\":accuracy}"
      ]
    },
    {
      "cell_type": "code",
      "execution_count": null,
      "metadata": {
        "id": "nr_zJEO_c5TY"
      },
      "outputs": [],
      "source": [
        "experiment.log_metrics(metrics)"
      ]
    },
    {
      "attachments": {},
      "cell_type": "markdown",
      "metadata": {
        "id": "9U26OZqibj3P"
      },
      "source": [
        "<img src = 'https://miro.medium.com/max/1400/0*r2yYhe2DpE4d3WKP.png' width=700px>"
      ]
    },
    {
      "cell_type": "code",
      "execution_count": null,
      "metadata": {
        "colab": {
          "base_uri": "https://localhost:8080/"
        },
        "id": "uSvXz5ESf6cf",
        "outputId": "5ad9a064-c2dd-497d-b6df-64f610e7cd63"
      },
      "outputs": [
        {
          "data": {
            "text/plain": [
              "{'api': 'https://www.comet.ml/api/rest/v2/experiment/asset/get-asset?assetId=7455a9e4e8d8485487d9054b3ee4385b&experimentKey=d41b0cbd2fec4239925ec5edf3d4c04b',\n",
              " 'assetId': '7455a9e4e8d8485487d9054b3ee4385b',\n",
              " 'web': 'https://www.comet.ml/api/asset/download?assetId=7455a9e4e8d8485487d9054b3ee4385b&experimentKey=d41b0cbd2fec4239925ec5edf3d4c04b'}"
            ]
          },
          "execution_count": 38,
          "metadata": {},
          "output_type": "execute_result"
        }
      ],
      "source": [
        "experiment.log_confusion_matrix(y.tolist(), y_pred.tolist())"
      ]
    },
    {
      "cell_type": "code",
      "execution_count": null,
      "metadata": {
        "colab": {
          "base_uri": "https://localhost:8080/",
          "height": 821
        },
        "id": "lvUb-yn7gIww",
        "outputId": "44038504-1a6d-490b-9049-db1ae7efb071"
      },
      "outputs": [
        {
          "data": {
            "text/html": [
              "\n",
              "        <iframe\n",
              "            width=\"100%\"\n",
              "            height=\"800px\"\n",
              "            src=\"https://www.comet.ml/ketrint/medical-appointment/d41b0cbd2fec4239925ec5edf3d4c04b\"\n",
              "            frameborder=\"0\"\n",
              "            allowfullscreen\n",
              "        ></iframe>\n",
              "        "
            ],
            "text/plain": [
              "<IPython.lib.display.IFrame at 0x7f9729dd7e90>"
            ]
          },
          "metadata": {},
          "output_type": "display_data"
        }
      ],
      "source": [
        "experiment.display()"
      ]
    },
    {
      "cell_type": "code",
      "execution_count": null,
      "metadata": {
        "colab": {
          "base_uri": "https://localhost:8080/"
        },
        "id": "ZNmiC0I-hIHb",
        "outputId": "0dbf7be3-ccd7-4ad5-cfc8-6e1747427431"
      },
      "outputs": [
        {
          "name": "stderr",
          "output_type": "stream",
          "text": [
            "COMET INFO: ---------------------------\n",
            "COMET INFO: Comet.ml Experiment Summary\n",
            "COMET INFO: ---------------------------\n",
            "COMET INFO:   Data:\n",
            "COMET INFO:     display_summary_level : 1\n",
            "COMET INFO:     url                   : https://www.comet.ml/ketrint/medical-appointment/d41b0cbd2fec4239925ec5edf3d4c04b\n",
            "COMET INFO:   Metrics:\n",
            "COMET INFO:     accuracy : 0.7980836221170637\n",
            "COMET INFO:   Others:\n",
            "COMET INFO:     notebook_url : https://colab.research.google.com/notebook#fileId=1KVu3r_Rqkz6x4mr7MZ2lArzJhTxp7ies\n",
            "COMET INFO:   Parameters:\n",
            "COMET INFO:     C                 : 1.0\n",
            "COMET INFO:     class_weight      : 1\n",
            "COMET INFO:     clip              : False\n",
            "COMET INFO:     copy              : True\n",
            "COMET INFO:     dual              : False\n",
            "COMET INFO:     feature_range     : (0, 1)\n",
            "COMET INFO:     fit_intercept     : True\n",
            "COMET INFO:     intercept_scaling : 1\n",
            "COMET INFO:     l1_ratio          : 1\n",
            "COMET INFO:     max_iter          : 100\n",
            "COMET INFO:     model_type        : logreg\n",
            "COMET INFO:     multi_class       : auto\n",
            "COMET INFO:     n_jobs            : 1\n",
            "COMET INFO:     penalty           : l2\n",
            "COMET INFO:     random_state      : 42\n",
            "COMET INFO:     solver            : lbfgs\n",
            "COMET INFO:     tol               : 0.0001\n",
            "COMET INFO:     verbose           : 0\n",
            "COMET INFO:     warm_start        : False\n",
            "COMET INFO:   Uploads:\n",
            "COMET INFO:     confusion-matrix    : 1\n",
            "COMET INFO:     environment details : 1\n",
            "COMET INFO:     figures             : 3\n",
            "COMET INFO:     filename            : 1\n",
            "COMET INFO:     installed packages  : 1\n",
            "COMET INFO:     notebook            : 2\n",
            "COMET INFO:     os packages         : 1\n",
            "COMET INFO:     source_code         : 1\n",
            "COMET INFO: ---------------------------\n",
            "COMET INFO: Uploading metrics, params, and assets to Comet before program termination (may take several seconds)\n",
            "COMET INFO: The Python SDK has 3600 seconds to finish before aborting...\n",
            "COMET INFO: Waiting for completion of the file uploads (may take several seconds)\n",
            "COMET INFO: The Python SDK has 10800 seconds to finish before aborting...\n",
            "COMET INFO: Still uploading 1 file(s), remaining 93.16 KB/493.08 KB\n"
          ]
        }
      ],
      "source": [
        "experiment.end()"
      ]
    },
    {
      "attachments": {},
      "cell_type": "markdown",
      "metadata": {
        "id": "5ydNwtkThhPg"
      },
      "source": [
        "# Домашнее задание"
      ]
    },
    {
      "attachments": {},
      "cell_type": "markdown",
      "metadata": {
        "id": "Vit5v66shjwQ"
      },
      "source": [
        "Визуализируйте корреляцию между числовыми признаками, использованными для обучения модели и залогируйте изображение в Comet.\n",
        "\n",
        "В качестве ответа приложите обновленный ноутбук.\n",
        "\n",
        "*Форма оценки ментором:*\n",
        "\n",
        "1) Проведена визуализация корреляции между 7 числовыми признаками, использованными для обучения модели - 5 баллов\n",
        "\n",
        "2) Произведено логирование графика в CometMl - 10 баллов\n",
        "\n"
      ]
    }
  ],
  "metadata": {
    "colab": {
      "collapsed_sections": [],
      "name": "noshowappointments_cometml.ipynb",
      "provenance": []
    },
    "kernelspec": {
      "display_name": "Python 3",
      "name": "python3"
    },
    "language_info": {
      "codemirror_mode": {
        "name": "ipython",
        "version": 3
      },
      "file_extension": ".py",
      "mimetype": "text/x-python",
      "name": "python",
      "nbconvert_exporter": "python",
      "pygments_lexer": "ipython3",
      "version": "3.11.1"
    }
  },
  "nbformat": 4,
  "nbformat_minor": 0
}
