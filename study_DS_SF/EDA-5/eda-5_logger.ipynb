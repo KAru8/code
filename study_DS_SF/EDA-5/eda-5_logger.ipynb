{
 "cells": [
  {
   "cell_type": "code",
   "execution_count": 4,
   "metadata": {},
   "outputs": [],
   "source": [
    "import pandas as pd\n",
    "import matplotlib.pyplot as plt\n",
    "import logging\n",
    "from importlib import reload"
   ]
  },
  {
   "cell_type": "code",
   "execution_count": 6,
   "metadata": {},
   "outputs": [],
   "source": [
    "df = pd.read_csv('data/KaggleV2-May-2016.csv')"
   ]
  },
  {
   "cell_type": "code",
   "execution_count": 1,
   "metadata": {},
   "outputs": [],
   "source": [
    "import os.path\n",
    "\n",
    "# Функция для создания лог-файла и записи в него информации\n",
    "def get_logger(path, file):\n",
    "  \"\"\"[Создает лог-файл для логирования в него]\n",
    "  Аргументы:\n",
    "      path {string} -- путь к директории\n",
    "      file {string} -- имя файла\n",
    "   Возвращает:\n",
    "      [obj] -- [логер]\n",
    "  \"\"\"\n",
    "  # проверяем, существует ли файл\n",
    "  log_file = os.path.join(path, file)\n",
    " \n",
    "  #если  файла нет, создаем его\n",
    "  if not os.path.isfile(log_file):\n",
    "      open(log_file, \"w+\").close()\n",
    "  \n",
    "  # поменяем формат логирования\n",
    "  file_logging_format = \"%(levelname)s: %(asctime)s: %(message)s\"\n",
    "  \n",
    "  # конфигурируем лог-файл\n",
    "  logging.basicConfig(level=logging.INFO, \n",
    "  format = file_logging_format)\n",
    "  logger = logging.getLogger()\n",
    "  \n",
    "  # создадим хэнлдер для записи лога в файл\n",
    "  handler = logging.FileHandler(log_file)\n",
    "  \n",
    "  # установим уровень логирования\n",
    "  handler.setLevel(logging.INFO)\n",
    "  \n",
    "  # создадим формат логирования, используя file_logging_format\n",
    "  formatter = logging.Formatter(file_logging_format)\n",
    "  handler.setFormatter(formatter)\n",
    "  \n",
    "  # добавим хэндлер лог-файлу\n",
    "  logger.addHandler(handler)\n",
    "  return logger"
   ]
  },
  {
   "cell_type": "code",
   "execution_count": 2,
   "metadata": {},
   "outputs": [],
   "source": [
    "!mkdir logs"
   ]
  },
  {
   "cell_type": "code",
   "execution_count": 7,
   "metadata": {},
   "outputs": [
    {
     "name": "stderr",
     "output_type": "stream",
     "text": [
      "INFO: 2023-05-20 21:46:10,449: Data\n",
      "INFO: 2023-05-20 21:46:10,450: Data shape (110527, 14)\n",
      "INFO: 2023-05-20 21:46:10,467: Percentage of women: 0.653882342398853\n",
      "INFO: 2023-05-20 21:46:10,487: Percentage of men: 0.346117657601147\n"
     ]
    }
   ],
   "source": [
    "# создаем лог-файл\n",
    "logger = get_logger(path=\"logs/\", file=\"data.logs\")\n",
    "\n",
    "logger.info(\"Data\")\n",
    "\n",
    "logger.info(\"Data shape {}\".format(df.shape))\n",
    "\n",
    "logger.info(\"Percentage of women: {}\".format(df[df['No-show']=='Yes']['Gender'].value_counts(True)[0]))\n",
    "\n",
    "logger.info(\"Percentage of men: {}\".format(df[df['No-show']=='Yes']['Gender'].value_counts(True)[1]))"
   ]
  },
  {
   "cell_type": "code",
   "execution_count": 8,
   "metadata": {},
   "outputs": [
    {
     "name": "stderr",
     "output_type": "stream",
     "text": [
      "ERROR: 2023-05-20 21:46:45,278: Data shape is incorrect!\n"
     ]
    }
   ],
   "source": [
    "if df.shape != (110526,14):\n",
    " logger.error('Data shape is incorrect!')"
   ]
  }
 ],
 "metadata": {
  "kernelspec": {
   "display_name": "Python 3",
   "language": "python",
   "name": "python3"
  },
  "language_info": {
   "codemirror_mode": {
    "name": "ipython",
    "version": 3
   },
   "file_extension": ".py",
   "mimetype": "text/x-python",
   "name": "python",
   "nbconvert_exporter": "python",
   "pygments_lexer": "ipython3",
   "version": "3.11.1"
  },
  "orig_nbformat": 4
 },
 "nbformat": 4,
 "nbformat_minor": 2
}
